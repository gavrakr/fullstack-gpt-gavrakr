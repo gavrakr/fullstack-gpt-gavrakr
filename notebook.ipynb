{
 "cells": [
  {
   "cell_type": "code",
   "execution_count": 8,
   "metadata": {},
   "outputs": [],
   "source": [
    "from langchain.chat_models import ChatOpenAI\n",
    "from langchain.prompts import ChatPromptTemplate\n",
    "from langchain.callbacks import StreamingStdOutCallbackHandler\n",
    "\n",
    "chat = ChatOpenAI(model_name=\"gpt-3.5-turbo\", temperature=0.1, streaming=True, callbacks=[StreamingStdOutCallbackHandler() ])\n",
    "\n",
    "poet_prompt = ChatPromptTemplate.from_messages(\n",
    "    [\"system\", \"You are a poet. You write poetry about programming languages.\",\n",
    "    \"human\", \"I want to {language} poem\"]\n",
    ")\n",
    "\n",
    "\n",
    "poet_chain = poet_prompt | chat\n"
   ]
  },
  {
   "cell_type": "code",
   "execution_count": 9,
   "metadata": {},
   "outputs": [
    {
     "name": "stdout",
     "output_type": "stream",
     "text": [
      "In the land of code, where languages roam,\n",
      "There lived a Python, in a cozy home.\n",
      "Its syntax was sleek, its functions divine,\n",
      "A language so elegant, it truly did shine.\n",
      "\n",
      "One day, Python felt a hunger so deep,\n",
      "For something to eat, a meal it must keep.\n",
      "It searched through its files, its libraries vast,\n",
      "For a recipe to cook, a dish that would last.\n",
      "\n",
      "Python found a recipe for a dish so fine,\n",
      "A feast for the eyes, a taste divine.\n",
      "It gathered its ingredients, imported with care,\n",
      "And began to cook, with precision rare.\n",
      "\n",
      "It mixed and it stirred, it sliced and it diced,\n",
      "Creating a dish that was sure to entice.\n",
      "With loops and with functions, it cooked with delight,\n",
      "A Python food feast, a culinary sight.\n",
      "\n",
      "And when it was done, Python sat down to eat,\n",
      "Its Python food dish, a true coding feat.\n",
      "It savored each bite, each flavor so grand,\n",
      "A meal fit for a language, in a digital land.This poem creatively personifies the programming language Python as a character living in a digital world. The use of language related to coding, such as \"syntax,\" \"functions,\" \"files,\" and \"libraries,\" adds depth to the theme. The poem also cleverly incorporates coding concepts like loops and functions into the narrative of Python cooking a meal, which is a unique and imaginative concept.\n",
      "\n",
      "The structure of the poem is consistent, with a clear rhyme scheme and rhythm that flows well throughout. The imagery of Python cooking and enjoying a meal is vivid and engaging, making the reader feel connected to the character and its actions.\n",
      "\n",
      "Overall, this poem effectively combines elements of programming and culinary themes to create a whimsical and entertaining piece. The creativity and originality of the concept make it a standout piece in the realm of poetry related to technology and coding."
     ]
    },
    {
     "data": {
      "text/plain": [
       "AIMessageChunk(content='This poem creatively personifies the programming language Python as a character living in a digital world. The use of language related to coding, such as \"syntax,\" \"functions,\" \"files,\" and \"libraries,\" adds depth to the theme. The poem also cleverly incorporates coding concepts like loops and functions into the narrative of Python cooking a meal, which is a unique and imaginative concept.\\n\\nThe structure of the poem is consistent, with a clear rhyme scheme and rhythm that flows well throughout. The imagery of Python cooking and enjoying a meal is vivid and engaging, making the reader feel connected to the character and its actions.\\n\\nOverall, this poem effectively combines elements of programming and culinary themes to create a whimsical and entertaining piece. The creativity and originality of the concept make it a standout piece in the realm of poetry related to technology and coding.')"
      ]
     },
     "execution_count": 9,
     "metadata": {},
     "output_type": "execute_result"
    }
   ],
   "source": [
    "critic_prompt = ChatPromptTemplate.from_messages(\n",
    "    [\"system\", \"You are a critic. You are an expert in evaluating poetry.\"\n",
    "    \"human\", \"{poem}\"]\n",
    ")\n",
    "\n",
    "critic_chain = critic_prompt | chat\n",
    "\n",
    "final_chain = {\"poem\": poet_chain} | critic_chain\n",
    "\n",
    "final_chain.invoke({\"language\":\"python\",})"
   ]
  }
 ],
 "metadata": {
  "kernelspec": {
   "display_name": "env",
   "language": "python",
   "name": "python3"
  },
  "language_info": {
   "codemirror_mode": {
    "name": "ipython",
    "version": 3
   },
   "file_extension": ".py",
   "mimetype": "text/x-python",
   "name": "python",
   "nbconvert_exporter": "python",
   "pygments_lexer": "ipython3",
   "version": "3.11.9"
  }
 },
 "nbformat": 4,
 "nbformat_minor": 2
}
